{
 "cells": [
  {
   "cell_type": "code",
   "execution_count": 3,
   "metadata": {},
   "outputs": [],
   "source": [
    "import pandas as pd"
   ]
  },
  {
   "cell_type": "code",
   "execution_count": 1,
   "metadata": {},
   "outputs": [],
   "source": [
    "customerData = {\n",
    "    \"Customer Name\": [\"Jane Doe\", \"Kim Brown\", \"John Smith\", \"Chris Brown\", \"Annette Clarke\", \"Blue Diamond\", \"Kings Stit\", \"North Blue\", \"Pink Brown\", \"Ally King\", \"Job Black\"],\n",
    "    \"TransID\": [\"10201\", \"10202\", \"10203\", \"10204\", \"10205\", \"10206\", \"10207\", \"10208\", \"10209\", \"10210\", \"10211\"],\n",
    "    \"Age\": [23,26,32,65,44,31,61,19,29,33,19],\n",
    "    \"Quantity\": [3,1,1,3,2,3,3,10,6,3,12],\n",
    "    \"Product\": [\"Beer\", \"Bread\", \"Burger\", \"Chicken\", \"Bread\", \"Burger\", \"Chicken\", \"Beer\", \"Water\", \"Chicken\", \"Fruits\"],\n",
    "    \"Value\": [21.25, 7.5, 7.25, 21.75,14,21.25,21.5,70.25,42,21.35,84.25],\n",
    "    \"Coupon\":[\"N\",\"Y\",\"N\",\"Y\", \"Y\", \"N\", \"Y\", \"N\", \"Y\", \"N\", \"Y\"],\n",
    "    \"PaymentType\": [\"Cash\", \"Credit Card\", \"Cash\", \"Cash\", \"Cash\", \"Credit Card\", \"Credit Card\", \"Cash\", \"Credit Card\", \"Cash\", \"Cash\"]\n",
    "}"
   ]
  },
  {
   "cell_type": "code",
   "execution_count": 4,
   "metadata": {},
   "outputs": [
    {
     "data": {
      "text/html": [
       "<div>\n",
       "<style scoped>\n",
       "    .dataframe tbody tr th:only-of-type {\n",
       "        vertical-align: middle;\n",
       "    }\n",
       "\n",
       "    .dataframe tbody tr th {\n",
       "        vertical-align: top;\n",
       "    }\n",
       "\n",
       "    .dataframe thead th {\n",
       "        text-align: right;\n",
       "    }\n",
       "</style>\n",
       "<table border=\"1\" class=\"dataframe\">\n",
       "  <thead>\n",
       "    <tr style=\"text-align: right;\">\n",
       "      <th></th>\n",
       "      <th>Customer Name</th>\n",
       "      <th>TransID</th>\n",
       "      <th>Age</th>\n",
       "      <th>Quantity</th>\n",
       "      <th>Product</th>\n",
       "      <th>Value</th>\n",
       "      <th>Coupon</th>\n",
       "      <th>PaymentType</th>\n",
       "    </tr>\n",
       "  </thead>\n",
       "  <tbody>\n",
       "    <tr>\n",
       "      <th>0</th>\n",
       "      <td>Jane Doe</td>\n",
       "      <td>10201</td>\n",
       "      <td>23</td>\n",
       "      <td>3</td>\n",
       "      <td>Beer</td>\n",
       "      <td>21.25</td>\n",
       "      <td>N</td>\n",
       "      <td>Cash</td>\n",
       "    </tr>\n",
       "    <tr>\n",
       "      <th>1</th>\n",
       "      <td>Kim Brown</td>\n",
       "      <td>10202</td>\n",
       "      <td>26</td>\n",
       "      <td>1</td>\n",
       "      <td>Bread</td>\n",
       "      <td>7.50</td>\n",
       "      <td>Y</td>\n",
       "      <td>Credit Card</td>\n",
       "    </tr>\n",
       "    <tr>\n",
       "      <th>2</th>\n",
       "      <td>John Smith</td>\n",
       "      <td>10203</td>\n",
       "      <td>32</td>\n",
       "      <td>1</td>\n",
       "      <td>Burger</td>\n",
       "      <td>7.25</td>\n",
       "      <td>N</td>\n",
       "      <td>Cash</td>\n",
       "    </tr>\n",
       "    <tr>\n",
       "      <th>3</th>\n",
       "      <td>Chris Brown</td>\n",
       "      <td>10204</td>\n",
       "      <td>65</td>\n",
       "      <td>3</td>\n",
       "      <td>Chicken</td>\n",
       "      <td>21.75</td>\n",
       "      <td>Y</td>\n",
       "      <td>Cash</td>\n",
       "    </tr>\n",
       "    <tr>\n",
       "      <th>4</th>\n",
       "      <td>Annette Clarke</td>\n",
       "      <td>10205</td>\n",
       "      <td>44</td>\n",
       "      <td>2</td>\n",
       "      <td>Bread</td>\n",
       "      <td>14.00</td>\n",
       "      <td>Y</td>\n",
       "      <td>Cash</td>\n",
       "    </tr>\n",
       "    <tr>\n",
       "      <th>5</th>\n",
       "      <td>Blue Diamond</td>\n",
       "      <td>10206</td>\n",
       "      <td>31</td>\n",
       "      <td>3</td>\n",
       "      <td>Burger</td>\n",
       "      <td>21.25</td>\n",
       "      <td>N</td>\n",
       "      <td>Credit Card</td>\n",
       "    </tr>\n",
       "    <tr>\n",
       "      <th>6</th>\n",
       "      <td>Kings Stit</td>\n",
       "      <td>10207</td>\n",
       "      <td>61</td>\n",
       "      <td>3</td>\n",
       "      <td>Chicken</td>\n",
       "      <td>21.50</td>\n",
       "      <td>Y</td>\n",
       "      <td>Credit Card</td>\n",
       "    </tr>\n",
       "    <tr>\n",
       "      <th>7</th>\n",
       "      <td>North Blue</td>\n",
       "      <td>10208</td>\n",
       "      <td>19</td>\n",
       "      <td>10</td>\n",
       "      <td>Beer</td>\n",
       "      <td>70.25</td>\n",
       "      <td>N</td>\n",
       "      <td>Cash</td>\n",
       "    </tr>\n",
       "    <tr>\n",
       "      <th>8</th>\n",
       "      <td>Pink Brown</td>\n",
       "      <td>10209</td>\n",
       "      <td>29</td>\n",
       "      <td>6</td>\n",
       "      <td>Water</td>\n",
       "      <td>42.00</td>\n",
       "      <td>Y</td>\n",
       "      <td>Credit Card</td>\n",
       "    </tr>\n",
       "    <tr>\n",
       "      <th>9</th>\n",
       "      <td>Ally King</td>\n",
       "      <td>10210</td>\n",
       "      <td>33</td>\n",
       "      <td>3</td>\n",
       "      <td>Chicken</td>\n",
       "      <td>21.35</td>\n",
       "      <td>N</td>\n",
       "      <td>Cash</td>\n",
       "    </tr>\n",
       "    <tr>\n",
       "      <th>10</th>\n",
       "      <td>Job Black</td>\n",
       "      <td>10211</td>\n",
       "      <td>19</td>\n",
       "      <td>12</td>\n",
       "      <td>Fruits</td>\n",
       "      <td>84.25</td>\n",
       "      <td>Y</td>\n",
       "      <td>Cash</td>\n",
       "    </tr>\n",
       "  </tbody>\n",
       "</table>\n",
       "</div>"
      ],
      "text/plain": [
       "     Customer Name TransID  Age  Quantity  Product  Value Coupon  PaymentType\n",
       "0         Jane Doe   10201   23         3     Beer  21.25      N         Cash\n",
       "1        Kim Brown   10202   26         1    Bread   7.50      Y  Credit Card\n",
       "2       John Smith   10203   32         1   Burger   7.25      N         Cash\n",
       "3      Chris Brown   10204   65         3  Chicken  21.75      Y         Cash\n",
       "4   Annette Clarke   10205   44         2    Bread  14.00      Y         Cash\n",
       "5     Blue Diamond   10206   31         3   Burger  21.25      N  Credit Card\n",
       "6       Kings Stit   10207   61         3  Chicken  21.50      Y  Credit Card\n",
       "7       North Blue   10208   19        10     Beer  70.25      N         Cash\n",
       "8       Pink Brown   10209   29         6    Water  42.00      Y  Credit Card\n",
       "9        Ally King   10210   33         3  Chicken  21.35      N         Cash\n",
       "10       Job Black   10211   19        12   Fruits  84.25      Y         Cash"
      ]
     },
     "execution_count": 4,
     "metadata": {},
     "output_type": "execute_result"
    }
   ],
   "source": [
    "df = pd.DataFrame(customerData)\n",
    "df"
   ]
  },
  {
   "cell_type": "code",
   "execution_count": 6,
   "metadata": {},
   "outputs": [
    {
     "name": "stdout",
     "output_type": "stream",
     "text": [
      "The total number of rows are: 11\n",
      "The total number of columns are: 8\n"
     ]
    }
   ],
   "source": [
    "# Rows in the DF\n",
    "print(f\"The total number of rows are: {df.shape[0]}\")\n",
    "# Columns in the DF\n",
    "print(f\"The total number of columns are: {df.shape[1]}\")"
   ]
  },
  {
   "cell_type": "code",
   "execution_count": 7,
   "metadata": {},
   "outputs": [
    {
     "data": {
      "text/plain": [
       "Customer Name     object\n",
       "TransID           object\n",
       "Age                int64\n",
       "Quantity           int64\n",
       "Product           object\n",
       "Value            float64\n",
       "Coupon            object\n",
       "PaymentType       object\n",
       "dtype: object"
      ]
     },
     "execution_count": 7,
     "metadata": {},
     "output_type": "execute_result"
    }
   ],
   "source": [
    "# What are the data types in the dataframe\n",
    "df.dtypes"
   ]
  },
  {
   "cell_type": "code",
   "execution_count": 10,
   "metadata": {},
   "outputs": [
    {
     "data": {
      "text/plain": [
       "Customer Name    Annette Clarke\n",
       "TransID                   10205\n",
       "Age                          44\n",
       "Quantity                      2\n",
       "Product                   Bread\n",
       "Value                      14.0\n",
       "Coupon                        Y\n",
       "PaymentType                Cash\n",
       "Name: 4, dtype: object"
      ]
     },
     "execution_count": 10,
     "metadata": {},
     "output_type": "execute_result"
    }
   ],
   "source": [
    "# Show the value in row 5\n",
    "df.iloc[4]\n"
   ]
  },
  {
   "cell_type": "code",
   "execution_count": null,
   "metadata": {},
   "outputs": [],
   "source": [
    "# New row of data\n"
   ]
  }
 ],
 "metadata": {
  "kernelspec": {
   "display_name": ".venv",
   "language": "python",
   "name": "python3"
  },
  "language_info": {
   "codemirror_mode": {
    "name": "ipython",
    "version": 3
   },
   "file_extension": ".py",
   "mimetype": "text/x-python",
   "name": "python",
   "nbconvert_exporter": "python",
   "pygments_lexer": "ipython3",
   "version": "3.12.0"
  }
 },
 "nbformat": 4,
 "nbformat_minor": 2
}
